{
 "cells": [
  {
   "cell_type": "code",
   "execution_count": 3,
   "id": "2b3ee02f-aee0-4695-857d-9315c7f8cb91",
   "metadata": {},
   "outputs": [
    {
     "data": {
      "text/html": [
       "\n",
       "        <iframe\n",
       "            width=\"100%\"\n",
       "            height=\"650\"\n",
       "            src=\"http://127.0.0.1:8051/\"\n",
       "            frameborder=\"0\"\n",
       "            allowfullscreen\n",
       "            \n",
       "        ></iframe>\n",
       "        "
      ],
      "text/plain": [
       "<IPython.lib.display.IFrame at 0x14d9b9d4290>"
      ]
     },
     "metadata": {},
     "output_type": "display_data"
    }
   ],
   "source": [
    "import pandas as pd\n",
    "import numpy as np\n",
    "import plotly.express as px\n",
    "from dash import Dash, dcc, html, Input, Output\n",
    "\n",
    "# Load the input dataset\n",
    "df = pd.read_csv('summary_table_supervised_PT_PP_PT_CTRL_and_PT_PP_PT_CTRL_long_7_9_12_230524.txt', sep='\\t')\n",
    "df.drop(columns=['Chr', 'Start', 'End', 'GeneLength'], inplace=True)\n",
    "\n",
    "# Compute log2(Fold Change) and -log10(p-value) for each time point\n",
    "for day in [7, 9, 12]:\n",
    "    df[f'-log10(p){day}'] = -np.log10(df[f'ttest_unpaired_p_PT_PP_PT_CTRL_long_{day}'])\n",
    "    df[f'log2(FC){day}'] = np.log2(df[f'folds_median_PT_PP_PT_CTRL_long_{day}'])\n",
    "\n",
    "# Define a function to classify gene regulation status\n",
    "def assign_regulation(logfc, logp):\n",
    "    if logp > 1.3:\n",
    "        if logfc >= 1:\n",
    "            return 'Increased'\n",
    "        elif logfc <= -1:\n",
    "            return 'Decreased'\n",
    "    return 'Neutral'\n",
    "\n",
    "# Create the Dash application\n",
    "app = Dash(__name__)\n",
    "app.layout = html.Div([\n",
    "    html.H2(\"Volcano plot – Days of PP Treatment\", style={'textAlign': 'center'}),\n",
    "    dcc.Dropdown(\n",
    "        id='day-selector',\n",
    "        options=[{'label': f'{day} days', 'value': day} for day in [7, 9, 12]],\n",
    "        value=9,\n",
    "        clearable=False\n",
    "    ),\n",
    "    dcc.Graph(id='volcano-plot')\n",
    "])\n",
    "\n",
    "# Define callback to update volcano plot based on selected time point\n",
    "@app.callback(\n",
    "    Output('volcano-plot', 'figure'),\n",
    "    Input('day-selector', 'value')\n",
    ")\n",
    "def update_volcano_plot(day):\n",
    "    temp_df = df.copy()\n",
    "    temp_df['log2FC'] = temp_df[f'log2(FC){day}']\n",
    "    temp_df['-log10p'] = temp_df[f'-log10(p){day}']\n",
    "    temp_df['Regulation'] = temp_df.apply(lambda row: assign_regulation(row['log2FC'], row['-log10p']), axis=1)\n",
    "\n",
    "    fig = px.scatter(\n",
    "        temp_df,\n",
    "        x='log2FC',\n",
    "        y='-log10p',\n",
    "        color='Regulation',\n",
    "        color_discrete_map={\n",
    "            'Increased': '#AF4647',\n",
    "            'Decreased': '#517FBC',\n",
    "            'Neutral': 'lightgray'\n",
    "        },\n",
    "        hover_name='GeneName',\n",
    "        title=f'Volcano Plot – {day} Days of PP Treatment',\n",
    "        height=700,\n",
    "        width=800\n",
    "    )\n",
    "\n",
    "    # Add threshold lines for significance\n",
    "    fig.add_hline(y=1.3, line_dash='dash', line_color='gray')\n",
    "    fig.add_vline(x=1, line_dash='dash', line_color='gray')\n",
    "    fig.add_vline(x=-1, line_dash='dash', line_color='gray')\n",
    "\n",
    "    fig.update_layout(\n",
    "        xaxis_title='log₂(Fold Change)',\n",
    "        yaxis_title='-log(p)',\n",
    "        font=dict(size=14),\n",
    "        legend=dict(title='Regulation'),\n",
    "        plot_bgcolor='white'\n",
    "    )\n",
    "\n",
    "    return fig\n",
    "    \n",
    "# Run the app\n",
    "if __name__ == '__main__':\n",
    "    app.run(debug=True, port=8051)"
   ]
  },
  {
   "cell_type": "code",
   "execution_count": null,
   "id": "e23e668e-eb79-4e22-8e93-300147229a38",
   "metadata": {},
   "outputs": [],
   "source": []
  }
 ],
 "metadata": {
  "kernelspec": {
   "display_name": "Python [conda env:base] *",
   "language": "python",
   "name": "conda-base-py"
  },
  "language_info": {
   "codemirror_mode": {
    "name": "ipython",
    "version": 3
   },
   "file_extension": ".py",
   "mimetype": "text/x-python",
   "name": "python",
   "nbconvert_exporter": "python",
   "pygments_lexer": "ipython3",
   "version": "3.12.4"
  }
 },
 "nbformat": 4,
 "nbformat_minor": 5
}
